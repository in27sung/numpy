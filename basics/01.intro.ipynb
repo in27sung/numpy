{
 "cells": [
  {
   "cell_type": "markdown",
   "id": "4c274f53-2b55-467f-bae4-a5b6e0efc2bb",
   "metadata": {
    "panel-layout": {
     "height": 145,
     "visible": true,
     "width": 100
    }
   },
   "source": [
    "# NumPy: the absolute basics for beginners\n",
    "\n",
    ">NumPy(**Num**erical **Py**thon) is an open source Python library that's widely used in science and\n",
    ">engineering. The NumPy library contains multidimensional array data structres, such as the\n",
    ">homogeneous, N-dimensional 'ndarray', and a large library of functions that operate efficiently\n",
    ">on these data structures. Learn more about NumPy at [What is NumPy](https://numpy.org/doc/stable/user/whatisnumpy.html#whatisnumpy)"
   ]
  },
  {
   "cell_type": "markdown",
   "id": "1a1d3d43-02cb-4855-aaca-1c4baf8ea5f0",
   "metadata": {
    "panel-layout": {
     "height": 50.8203,
     "visible": true,
     "width": 100
    }
   },
   "source": [
    "## How to import NumPy"
   ]
  },
  {
   "cell_type": "code",
   "execution_count": 6,
   "id": "ced2b1f0-3781-463e-90de-9de59c4b8fba",
   "metadata": {},
   "outputs": [],
   "source": [
    "import numpy as np"
   ]
  },
  {
   "cell_type": "markdown",
   "id": "dee39bad-36e3-4477-9911-a179275a9332",
   "metadata": {
    "panel-layout": {
     "height": 84.4062,
     "visible": true,
     "width": 100
    }
   },
   "source": [
    "## Reading the example code\n",
    "Throughout the NumPy documentation, you will find blocks that look like:"
   ]
  },
  {
   "cell_type": "code",
   "execution_count": 10,
   "id": "6756309a-8ecb-495a-aa05-5787f1e4919c",
   "metadata": {
    "panel-layout": {
     "height": 27.1406,
     "visible": true,
     "width": 100
    }
   },
   "outputs": [
    {
     "data": {
      "text/plain": [
       "(2, 3)"
      ]
     },
     "execution_count": 10,
     "metadata": {},
     "output_type": "execute_result"
    }
   ],
   "source": [
    "a = np.array([[1, 2, 3],\n",
    "             [4, 5, 6]])\n",
    "a.shape"
   ]
  },
  {
   "cell_type": "markdown",
   "id": "5c10bafc-8d11-48fa-a7b3-9045eef12ebe",
   "metadata": {
    "panel-layout": {
     "height": 199.25,
     "visible": true,
     "width": 100
    }
   },
   "source": [
    "## Why User NumPy?\n",
    "Python lists are excellent, general-purpose containers. They can be \"heterogeneous\", meaning that\n",
    "they can contain elements of a cariety of types, and they are quite fast when used to perform individual\n",
    "operations on a gandful of elements.\n",
    "\n",
    "Depending on the characteristics of the data and the types of operations that need to be performed,\n",
    "other containers may be more appropritate; by exploiting these characteristcs, we can improve speed,\n",
    "reduce memory consumption, and offer a high-level syntax for performing a variety of common processing\n",
    "tasks. NumPy shines when there are large quanitites of 'homogeneous' (same-type) data to be processed on the CPU."
   ]
  },
  {
   "cell_type": "markdown",
   "id": "f2398bde-cc02-4dd2-bd3f-28bf4d434aa4",
   "metadata": {
    "panel-layout": {
     "height": 118.688,
     "visible": true,
     "width": 100
    }
   },
   "source": [
    "## What is an 'array'?\n",
    "In computer programming, an array is a structure for storing and retrieving data. We often talk about an array as if it were a grid in space, with each cell storing one element of the data. For instance, if each element of the data were a number, we might visualise a 'one-dimensional' array like a list:"
   ]
  },
  {
   "cell_type": "code",
   "execution_count": 34,
   "id": "0cca635e-f675-4b64-afd4-192f9d67644b",
   "metadata": {
    "panel-layout": {
     "height": 10,
     "visible": true,
     "width": 100
    }
   },
   "outputs": [
    {
     "data": {
      "text/plain": [
       "array([1, 5, 2, 0])"
      ]
     },
     "execution_count": 34,
     "metadata": {},
     "output_type": "execute_result"
    }
   ],
   "source": [
    "d1 = np.array([1, 5, 2, 0])\n",
    "d1"
   ]
  },
  {
   "cell_type": "markdown",
   "id": "408ce46d-44d2-4a37-9ad2-21e18f2aaae3",
   "metadata": {
    "panel-layout": {
     "height": 51.1406,
     "visible": true,
     "width": 100
    }
   },
   "source": [
    "A two-dimensional array would be like a table:"
   ]
  },
  {
   "cell_type": "code",
   "execution_count": 36,
   "id": "3daf8772-1f61-415f-9a99-91158b084286",
   "metadata": {
    "panel-layout": {
     "height": 10,
     "visible": true,
     "width": 100
    }
   },
   "outputs": [
    {
     "data": {
      "text/plain": [
       "array([[1, 5, 2, 0],\n",
       "       [8, 3, 6, 1],\n",
       "       [1, 7, 2, 9]])"
      ]
     },
     "execution_count": 36,
     "metadata": {},
     "output_type": "execute_result"
    }
   ],
   "source": [
    "d2 = np.array([[1, 5, 2, 0],[8, 3, 6, 1],[1, 7, 2, 9]])\n",
    "d2"
   ]
  },
  {
   "cell_type": "markdown",
   "id": "b31d6ef0-324d-49dd-95c1-a1704fe34e05",
   "metadata": {
    "panel-layout": {
     "height": 259.547,
     "visible": true,
     "width": 100
    }
   },
   "source": [
    "A three-dimensional array would be like a set of tables, perhaps stacked as thouh they were printed on separate pages.\n",
    "In NumPy, this idea is generalised to an arbitrary number of dimensions, and so the fundamental array class is called `ndarray`:\n",
    "it represents an 'N-dimensional array'.\n",
    "Most NumPy arrays have some restrictions. For instance:\n",
    "- All elements of the array must be of the same type of data.\n",
    "- Once created, the total size of the array can't change.\n",
    "- The shape must be \"rectangular\", not \"jagged\"; e.g., each row of a two-dimensional array must have the same number of columns.\n",
    "\n",
    "When these conditions are met, NumPy exploits these characteristics to make the array faster, more memory efficient, and more convenient to use than less restrictive data structures. \n",
    "\n",
    "For the remainder of this document, we will use the word \"array\" to refer to an instance of `ndarray`."
   ]
  }
 ],
 "metadata": {
  "kernelspec": {
   "display_name": "Python [conda env:base] *",
   "language": "python",
   "name": "conda-base-py"
  },
  "language_info": {
   "codemirror_mode": {
    "name": "ipython",
    "version": 3
   },
   "file_extension": ".py",
   "mimetype": "text/x-python",
   "name": "python",
   "nbconvert_exporter": "python",
   "pygments_lexer": "ipython3",
   "version": "3.12.7"
  },
  "panel-cell-order": [
   "4c274f53-2b55-467f-bae4-a5b6e0efc2bb",
   "1a1d3d43-02cb-4855-aaca-1c4baf8ea5f0",
   "dee39bad-36e3-4477-9911-a179275a9332",
   "6756309a-8ecb-495a-aa05-5787f1e4919c",
   "5c10bafc-8d11-48fa-a7b3-9045eef12ebe",
   "f2398bde-cc02-4dd2-bd3f-28bf4d434aa4",
   "0cca635e-f675-4b64-afd4-192f9d67644b",
   "408ce46d-44d2-4a37-9ad2-21e18f2aaae3",
   "3daf8772-1f61-415f-9a99-91158b084286",
   "b31d6ef0-324d-49dd-95c1-a1704fe34e05",
   "24203fd2-5e87-4028-96a7-0b247087ce86",
   "bcf4cd88-7c85-486d-ac34-44132ce61a07",
   "34cc7f1b-abf4-470f-8d18-2de93c9fc044",
   "40e2a17d-41a2-4fa5-a921-c86b812fcc72"
  ]
 },
 "nbformat": 4,
 "nbformat_minor": 5
}
