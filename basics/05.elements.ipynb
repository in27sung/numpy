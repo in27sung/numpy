{
 "cells": [
  {
   "cell_type": "markdown",
   "id": "2dab7117-3c63-4054-bd75-e41bbd8ecbdc",
   "metadata": {},
   "source": [
    "# Adding, removing, and soring elemnets\n",
    "This section covers `np.sort()`, `np.concatenate()`\n",
    "Sorting an array is simple with `np.sort()`. You can specify the axis, kind, and order when you call the function.\n",
    "If you start with this array:"
   ]
  },
  {
   "cell_type": "code",
   "execution_count": 12,
   "id": "67870d0b-cd96-4988-8a7a-ef069fe13db3",
   "metadata": {},
   "outputs": [],
   "source": [
    "import numpy as np"
   ]
  },
  {
   "cell_type": "markdown",
   "id": "beeb8b7d-9f32-4572-8478-8939b4d64c98",
   "metadata": {},
   "source": [
    "If you start with this array:"
   ]
  },
  {
   "cell_type": "code",
   "execution_count": 16,
   "id": "aa1c5076-0185-4257-8c93-4897e620cad9",
   "metadata": {},
   "outputs": [],
   "source": [
    "arr = np.array([2, 1, 5, 3, 7, 4, 6, 8])"
   ]
  },
  {
   "cell_type": "markdown",
   "id": "c7eb16e7-7d41-4054-b143-3672b55fa083",
   "metadata": {},
   "source": [
    "You can quickly sort the numbers in ascending order with:"
   ]
  },
  {
   "cell_type": "code",
   "execution_count": 21,
   "id": "792cb4ce-4e37-4c8a-a8d0-bf7f003f0909",
   "metadata": {},
   "outputs": [
    {
     "data": {
      "text/plain": [
       "array([1, 2, 3, 4, 5, 6, 7, 8])"
      ]
     },
     "execution_count": 21,
     "metadata": {},
     "output_type": "execute_result"
    }
   ],
   "source": [
    "np.sort(arr)"
   ]
  },
  {
   "cell_type": "markdown",
   "id": "637a13b9-bc5b-4ea4-990a-c3e9208f74cf",
   "metadata": {},
   "source": [
    "In addition to sort, which returns a sorted copy of an array, you can use:\n",
    "- [`argsort`](https://numpy.org/dox/stable/reference/generated/numpy.argsort.html#numpy.argsort), which is an indirect sort along a specified xis,\n",
    "- [`lexsort`](https://numpy.org/dox/stable/reference/generated/numpy.lexsort.html#numpy.lexsort), which is an indirect stable sort on multiple keys,\n",
    "- [`searchsorted`](https://numpy.org/dox/stable/reference/generated/numpy.searchsorted.html#numpy.searchsorted), which will find elements in a sorted array, and\n",
    "- [`partition`](https://numpy.org/dox/stable/reference/generated/numpy.partition.html#numpy.partition), which is a partial sort.\n",
    "\n",
    "To read more about sorting an array, see: [`sort`](https://numpy.org/doc/stable/reference/generated/numpy.sort.html#numpy.sort).\n",
    "\n",
    "If you start with these arrays:"
   ]
  },
  {
   "cell_type": "code",
   "execution_count": 35,
   "id": "2299798f-168b-49d1-89e1-fc995294ec44",
   "metadata": {},
   "outputs": [],
   "source": [
    "a = np.array([1, 2, 3, 4])\n",
    "b = np.array([5, 6, 7, 8])"
   ]
  },
  {
   "cell_type": "markdown",
   "id": "dcfd4769-1dc1-4f6d-930e-acffcc4fd881",
   "metadata": {},
   "source": [
    "You can concatenate them with `np.concatenate()`."
   ]
  },
  {
   "cell_type": "code",
   "execution_count": 38,
   "id": "9d121e24-0e5b-48bd-b33b-eef45048c851",
   "metadata": {},
   "outputs": [
    {
     "data": {
      "text/plain": [
       "array([1, 2, 3, 4, 5, 6, 7, 8])"
      ]
     },
     "execution_count": 38,
     "metadata": {},
     "output_type": "execute_result"
    }
   ],
   "source": [
    "np.concatenate((a, b))"
   ]
  },
  {
   "cell_type": "markdown",
   "id": "e5468b4c-3446-45f1-80a6-79871d0e2457",
   "metadata": {},
   "source": [
    "Or, if you start with these arrays:"
   ]
  },
  {
   "cell_type": "code",
   "execution_count": 41,
   "id": "47c6a0c3-7bba-4621-b13d-6da4f5779862",
   "metadata": {},
   "outputs": [],
   "source": [
    "x = np.array([[1, 2], [3, 4]])\n",
    "y = np.array([[5, 6]])"
   ]
  },
  {
   "cell_type": "markdown",
   "id": "2e910b37-912a-4338-96f2-0b01b1a2609c",
   "metadata": {},
   "source": [
    "You can concatenate them with:"
   ]
  },
  {
   "cell_type": "code",
   "execution_count": 46,
   "id": "95e8b4ea-6e9e-45e9-9c23-a352ed1995df",
   "metadata": {},
   "outputs": [
    {
     "data": {
      "text/plain": [
       "array([[1, 2],\n",
       "       [3, 4],\n",
       "       [5, 6]])"
      ]
     },
     "execution_count": 46,
     "metadata": {},
     "output_type": "execute_result"
    }
   ],
   "source": [
    "np.concatenate((x, y), axis=0)"
   ]
  },
  {
   "cell_type": "markdown",
   "id": "516f4fbe-93fc-4495-91fe-c8ec182b5e4d",
   "metadata": {},
   "source": [
    "In order to remove elements from an array, it's simple to use indexing to select the elements that you want to keep.\n",
    "To read more about concatenate, see: [`concatenate`](https://numpy.org/doc/stable/reference/generated/numpy.concatenate.html#numpy.concatenate)."
   ]
  }
 ],
 "metadata": {
  "kernelspec": {
   "display_name": "Python [conda env:base] *",
   "language": "python",
   "name": "conda-base-py"
  },
  "language_info": {
   "codemirror_mode": {
    "name": "ipython",
    "version": 3
   },
   "file_extension": ".py",
   "mimetype": "text/x-python",
   "name": "python",
   "nbconvert_exporter": "python",
   "pygments_lexer": "ipython3",
   "version": "3.12.7"
  }
 },
 "nbformat": 4,
 "nbformat_minor": 5
}
